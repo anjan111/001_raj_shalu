{
 "cells": [
  {
   "cell_type": "markdown",
   "metadata": {},
   "source": [
    "### Relational Operators\n",
    "\n",
    "===>>>> To use the Compare  the two inputs.\n",
    "\n",
    "===>>> If you compare the 2 inputs  we can get either True or False\n",
    "\n",
    "===>>> When the the Relations is Saticfied then we can get True\n",
    "\n",
    "===>>> When The Relation has not saticefied then we can get False\n",
    "\n",
    "===>>> The result of the relational operators are boolean data so that we can call Boolean operator\n",
    "\n",
    "===>>>  we can use like a conditions so that we can call conditional operator\n",
    "\n",
    "#### Types of Relational Operators\n",
    "\n",
    "1. Lessthan operation        <\n",
    "\n",
    "2. Greaterthan Operation     >\n",
    "\n",
    "3. equal too                 ==\n",
    "\n",
    "4. not equal too             !=\n",
    "\n",
    "5. lessthan or equal  to     <=\n",
    "\n",
    "6. greaterthab or equal to   >="
   ]
  },
  {
   "cell_type": "code",
   "execution_count": 1,
   "metadata": {},
   "outputs": [
    {
     "name": "stdout",
     "output_type": "stream",
     "text": [
      "True\n",
      "False\n",
      "False\n"
     ]
    }
   ],
   "source": [
    "# lessthan operator   <\n",
    "\n",
    "a   =  10\n",
    "b   =  20\n",
    "print( a < b ) # True\n",
    "\n",
    "\n",
    "a  =  10\n",
    "b  = 10\n",
    "print( a < b) # False\n",
    "\n",
    "a  =  20\n",
    "b  = 10\n",
    "\n",
    "\n",
    "print( a < b) # False"
   ]
  },
  {
   "cell_type": "code",
   "execution_count": 2,
   "metadata": {},
   "outputs": [
    {
     "name": "stdout",
     "output_type": "stream",
     "text": [
      "False\n",
      "False\n",
      "True\n"
     ]
    }
   ],
   "source": [
    "# greaterthan operator   >\n",
    "\n",
    "a   =  10\n",
    "b   =  20\n",
    "print( a > b ) # False\n",
    "\n",
    "\n",
    "a  =  10\n",
    "b  =  10\n",
    "print( a > b) # False\n",
    "\n",
    "a  =  20\n",
    "b  =  10\n",
    "print( a > b) # True"
   ]
  },
  {
   "cell_type": "code",
   "execution_count": 3,
   "metadata": {},
   "outputs": [
    {
     "name": "stdout",
     "output_type": "stream",
     "text": [
      "False\n",
      "True\n",
      "False\n"
     ]
    }
   ],
   "source": [
    "# equaltoo operator   ==\n",
    "\n",
    "a   =  10\n",
    "b   =  20\n",
    "print( a == b ) # False\n",
    "\n",
    "\n",
    "a  =  10\n",
    "b  =  10\n",
    "print( a == b) # True\n",
    "\n",
    "a  =  20\n",
    "b  =  10\n",
    "print( a == b) #False"
   ]
  },
  {
   "cell_type": "code",
   "execution_count": 4,
   "metadata": {},
   "outputs": [
    {
     "name": "stdout",
     "output_type": "stream",
     "text": [
      "True\n",
      "False\n",
      "True\n"
     ]
    }
   ],
   "source": [
    "# not equal too   !=\n",
    "\n",
    "a   =  10\n",
    "b   =  20\n",
    "print( a != b ) # True\n",
    "\n",
    "\n",
    "a  =  10\n",
    "b  =  10\n",
    "print( a != b) # False\n",
    "\n",
    "a  =  20\n",
    "b  =  10\n",
    "print( a != b) # True"
   ]
  },
  {
   "cell_type": "code",
   "execution_count": 5,
   "metadata": {},
   "outputs": [
    {
     "name": "stdout",
     "output_type": "stream",
     "text": [
      "False\n",
      "True\n",
      "True\n"
     ]
    }
   ],
   "source": [
    "# greaterthan  or equl too operator   >=\n",
    "\n",
    "a   =  10\n",
    "b   =  20\n",
    "print( a >= b ) # False\n",
    "\n",
    "\n",
    "a  =  10\n",
    "b  =  10\n",
    "print( a >= b) # True\n",
    "\n",
    "a  =  20\n",
    "b  =  10\n",
    "print( a >= b) # True"
   ]
  },
  {
   "cell_type": "code",
   "execution_count": 6,
   "metadata": {},
   "outputs": [
    {
     "name": "stdout",
     "output_type": "stream",
     "text": [
      "True\n",
      "True\n",
      "False\n"
     ]
    }
   ],
   "source": [
    "# lessthan or equal too    <=\n",
    "\n",
    "a   =  10\n",
    "b   =  20\n",
    "print( a <= b ) # True\n",
    "\n",
    "\n",
    "a  =  10\n",
    "b  =  10\n",
    "print( a <= b) # True\n",
    "\n",
    "a  =  20\n",
    "b  =  10\n",
    "print( a <= b) # False"
   ]
  },
  {
   "cell_type": "code",
   "execution_count": 7,
   "metadata": {},
   "outputs": [
    {
     "name": "stdout",
     "output_type": "stream",
     "text": [
      "123  is even   False\n"
     ]
    }
   ],
   "source": [
    "# wap print True when the given number even number otherwise print False\n",
    "\n",
    "num   =  123  # input number this is  given by programmer\n",
    "\n",
    "rem  =  num  %  2\n",
    "\n",
    "print(num, \" is even  \",rem == 0)"
   ]
  },
  {
   "cell_type": "code",
   "execution_count": 9,
   "metadata": {},
   "outputs": [
    {
     "name": "stdout",
     "output_type": "stream",
     "text": [
      "124  is even   True\n"
     ]
    }
   ],
   "source": [
    "# wap print True when the given number even number otherwise print False\n",
    "\n",
    "num   =  124  # input number this is  given by programmer\n",
    "\n",
    "rem  =  num  %  2\n",
    "\n",
    "print(num, \" is even  \",rem == 0)"
   ]
  },
  {
   "cell_type": "code",
   "execution_count": 11,
   "metadata": {},
   "outputs": [
    {
     "name": "stdout",
     "output_type": "stream",
     "text": [
      "enter int123\n",
      "123\n",
      "<class 'str'>\n",
      "123\n",
      "<class 'int'>\n"
     ]
    }
   ],
   "source": [
    "var = input(\"enter int\")\n",
    "print(var)\n",
    "print(type(var))\n",
    "var = int(var)\n",
    "print(var)\n",
    "print(type(var))"
   ]
  },
  {
   "cell_type": "code",
   "execution_count": 13,
   "metadata": {},
   "outputs": [
    {
     "name": "stdout",
     "output_type": "stream",
     "text": [
      "enter int : 124\n",
      "124  is even   True\n"
     ]
    }
   ],
   "source": [
    "# wap print True when the given number even number otherwise print False\n",
    "\n",
    "num   =  input(\"enter int : \")\n",
    "num   = int(num)\n",
    "\n",
    "rem  =  num  %  2\n",
    "\n",
    "print(num, \" is even  \",rem == 0)"
   ]
  },
  {
   "cell_type": "code",
   "execution_count": 15,
   "metadata": {},
   "outputs": [
    {
     "name": "stdout",
     "output_type": "stream",
     "text": [
      "enter age of you : 23\n",
      "enter age of sib : 19\n",
      "your smaller than your sib :  False\n"
     ]
    }
   ],
   "source": [
    "# wap for are you younger or not\n",
    "\n",
    "age_of_you   =  int(input(\"enter age of you : \"))\n",
    "\n",
    "age_of_sib   =  int(input(\"enter age of sib : \"))\n",
    "\n",
    "print(\"your smaller than your sib : \", age_of_you  < age_of_sib)"
   ]
  },
  {
   "cell_type": "markdown",
   "metadata": {},
   "source": [
    "#  Assignment operator    =\n",
    "\n",
    "====>>> To assign the data from right side to left side\n",
    "\n",
    "\n"
   ]
  },
  {
   "cell_type": "code",
   "execution_count": 1,
   "metadata": {},
   "outputs": [
    {
     "name": "stdout",
     "output_type": "stream",
     "text": [
      "123\n",
      "python\n"
     ]
    }
   ],
   "source": [
    "# constant to variable\n",
    "\n",
    "a  = 123  # constant int  data  to a variable\n",
    "print(a)\n",
    "\n",
    "var = \"python\"  # str constant data to a variable\n",
    "print(var)"
   ]
  },
  {
   "cell_type": "code",
   "execution_count": 2,
   "metadata": {},
   "outputs": [
    {
     "name": "stdout",
     "output_type": "stream",
     "text": [
      "123\n",
      "123\n"
     ]
    }
   ],
   "source": [
    "# variable to variable\n",
    "A = 123 # constant to variable\n",
    "var =  A\n",
    "print(A)\n",
    "print(var)"
   ]
  },
  {
   "cell_type": "code",
   "execution_count": 3,
   "metadata": {},
   "outputs": [
    {
     "name": "stdout",
     "output_type": "stream",
     "text": [
      "12\n",
      "34\n",
      "432\n"
     ]
    }
   ],
   "source": [
    "# Expression to variable\n",
    "\n",
    "a =  12\n",
    "b = 34\n",
    "c =  a*b+12*2  \n",
    "print(a)\n",
    "print(b)\n",
    "print(c)"
   ]
  },
  {
   "cell_type": "code",
   "execution_count": 4,
   "metadata": {},
   "outputs": [
    {
     "name": "stdout",
     "output_type": "stream",
     "text": [
      "12\n",
      "24\n",
      "36\n",
      "24\n"
     ]
    }
   ],
   "source": [
    "# compound assignment --->>> Speed Inc\n",
    "a =  12\n",
    "b =  24\n",
    "print(a)\n",
    "print(b)\n",
    "a =  a+b  # addition then update\n",
    "print(a)\n",
    "print(b)"
   ]
  },
  {
   "cell_type": "code",
   "execution_count": 5,
   "metadata": {},
   "outputs": [
    {
     "name": "stdout",
     "output_type": "stream",
     "text": [
      "12\n",
      "24\n",
      "36\n",
      "24\n"
     ]
    }
   ],
   "source": [
    "# compound assignment --->>> Speed Inc\n",
    "a =  12\n",
    "b =  24\n",
    "print(a)\n",
    "print(b)\n",
    "a += b         #a =  a+b  # addition then update\n",
    "print(a)\n",
    "print(b)"
   ]
  },
  {
   "cell_type": "code",
   "execution_count": 6,
   "metadata": {},
   "outputs": [
    {
     "name": "stdout",
     "output_type": "stream",
     "text": [
      "12\n",
      "24\n",
      "-12\n",
      "24\n"
     ]
    }
   ],
   "source": [
    "# compound assignment --->>> Speed Inc\n",
    "a =  12\n",
    "b =  24\n",
    "print(a)\n",
    "print(b)\n",
    "a   -=  b     #  a =  a - b\n",
    "print(a)\n",
    "print(b)"
   ]
  },
  {
   "cell_type": "code",
   "execution_count": 7,
   "metadata": {},
   "outputs": [
    {
     "name": "stdout",
     "output_type": "stream",
     "text": [
      "12\n",
      "24\n",
      "288\n",
      "24\n"
     ]
    }
   ],
   "source": [
    "# compound assignment --->>> Speed Inc\n",
    "a =  12\n",
    "b =  24\n",
    "print(a)\n",
    "print(b)\n",
    "a *= b      #   a =  a * b\n",
    "print(a)\n",
    "print(b)"
   ]
  },
  {
   "cell_type": "code",
   "execution_count": 8,
   "metadata": {
    "scrolled": true
   },
   "outputs": [
    {
     "name": "stdout",
     "output_type": "stream",
     "text": [
      "12\n",
      "24\n",
      "0.5\n",
      "24\n"
     ]
    }
   ],
   "source": [
    "# compound assignment --->>> Speed Inc\n",
    "a =  12\n",
    "b =  24\n",
    "print(a)\n",
    "print(b)\n",
    "a  /= b    # a =  a / b\n",
    "print(a)\n",
    "print(b)"
   ]
  },
  {
   "cell_type": "code",
   "execution_count": 9,
   "metadata": {},
   "outputs": [
    {
     "name": "stdout",
     "output_type": "stream",
     "text": [
      "12\n",
      "24\n",
      "12\n",
      "0\n"
     ]
    }
   ],
   "source": [
    "# compound assignment --->>> Speed Inc\n",
    "a =  12\n",
    "b =  24\n",
    "print(a)\n",
    "print(b)\n",
    "b %= a  #  b  =  b  % a  \n",
    "print(a)\n",
    "print(b)"
   ]
  },
  {
   "cell_type": "markdown",
   "metadata": {},
   "source": [
    "#### Special Operators\n",
    "\n",
    "1. Membership Operators \n",
    "\n",
    "=====>>>>  To check the an element is a member in the group of elements\n",
    "\n",
    "====>>>>>   in   ---->>> keyword \n",
    "\n",
    "\n",
    "2. Identity Operators\n",
    "\n",
    "===>>>> to ckeck the memory locations \n",
    "\n",
    "====>>>> is  ------>>>>  keyword\n",
    "\n"
   ]
  },
  {
   "cell_type": "code",
   "execution_count": 10,
   "metadata": {},
   "outputs": [
    {
     "name": "stdout",
     "output_type": "stream",
     "text": [
      "False\n",
      "True\n"
     ]
    }
   ],
   "source": [
    "# in  ---> membership operator\n",
    "LIST  =  (1,6,8,3,9,10,11,100,90)\n",
    "ele1   =  45\n",
    "ele2   =  100\n",
    "print(ele1 in LIST)  # False\n",
    "print(ele2 in LIST)  # True"
   ]
  },
  {
   "cell_type": "code",
   "execution_count": 11,
   "metadata": {},
   "outputs": [
    {
     "name": "stdout",
     "output_type": "stream",
     "text": [
      "True\n",
      "False\n"
     ]
    }
   ],
   "source": [
    "# not in  ---> membership operator\n",
    "LIST  =  (1,6,8,3,9,10,11,100,90)\n",
    "ele1   =  45\n",
    "ele2   =  100\n",
    "print(ele1 not in LIST)  #True\n",
    "print(ele2 not in LIST)  #False"
   ]
  },
  {
   "cell_type": "code",
   "execution_count": 14,
   "metadata": {},
   "outputs": [
    {
     "name": "stdout",
     "output_type": "stream",
     "text": [
      "1920594246608\n",
      "1920594245328\n",
      "False\n",
      "True\n"
     ]
    }
   ],
   "source": [
    "# is ->  identity operator\n",
    "\n",
    "a = (1,2,3,4,5)\n",
    "b = (1,2,3,4,5)\n",
    "print(id(a))\n",
    "print(id(b))\n",
    "print(a  is b ) # False\n",
    "print(a  is not b )# True\n"
   ]
  },
  {
   "cell_type": "code",
   "execution_count": 15,
   "metadata": {},
   "outputs": [
    {
     "name": "stdout",
     "output_type": "stream",
     "text": [
      "1920594243648\n",
      "1920594243648\n",
      "True\n",
      "False\n"
     ]
    }
   ],
   "source": [
    "# is ->  identity operator\n",
    "a = (1,2,3,4,5)\n",
    "b = a\n",
    "print(id(a))\n",
    "print(id(b))\n",
    "print(a  is b ) # True\n",
    "print(a is not b)# False"
   ]
  },
  {
   "cell_type": "code",
   "execution_count": 1,
   "metadata": {},
   "outputs": [
    {
     "name": "stdout",
     "output_type": "stream",
     "text": [
      "True\n",
      "False\n",
      "False\n",
      "False\n"
     ]
    }
   ],
   "source": [
    "#Logical Operators\n",
    "'''\n",
    "Based On the Logical Gates\n",
    "1. Logical AND   ------>> and\n",
    "===>> If and only if all inputs are True then only output is True \n",
    "====>>> in1   in2    ---> and\n",
    "        True   True ----> True\n",
    "        True   False ---> False\n",
    "        False  True ----> False\n",
    "        False  False ---> False\n",
    "\n",
    "\n",
    "2. Logical OR    ----->>> or\n",
    "3. Logical NOT   ----->>> not\n",
    "'''\n",
    "# Logical AND  ---> and\n",
    "print(True   and  True) # True\n",
    "print(True   and  False) # False\n",
    "print(False   and  True) # False\n",
    "print(False  and  False) # False"
   ]
  },
  {
   "cell_type": "code",
   "execution_count": 2,
   "metadata": {},
   "outputs": [
    {
     "name": "stdout",
     "output_type": "stream",
     "text": [
      "True\n",
      "True\n",
      "True\n",
      "False\n"
     ]
    }
   ],
   "source": [
    "#2. Logical OR    ----->>> or\n",
    "'''\n",
    "===>> If and only if all inputs are False then only output is False\n",
    "\n",
    "True    or  True  ----> True\n",
    "False   or  True  ----> True\n",
    "True    or  False ----> True\n",
    "False   or  False ----> False\n",
    "'''\n",
    "print(True   or  True) # True\n",
    "print(True   or  False) # True\n",
    "print(False  or  True) # True\n",
    "print(False  or  False) # False"
   ]
  },
  {
   "cell_type": "code",
   "execution_count": 3,
   "metadata": {},
   "outputs": [
    {
     "name": "stdout",
     "output_type": "stream",
     "text": [
      "False\n",
      "True\n"
     ]
    }
   ],
   "source": [
    "# Logical Not Operator   ---> not\n",
    "'''\n",
    "input   output\n",
    "\n",
    "not False  ----> True\n",
    "not True   ---> False\n",
    "'''\n",
    "print(not True) # False\n",
    "print(not False) # True"
   ]
  },
  {
   "cell_type": "code",
   "execution_count": 5,
   "metadata": {},
   "outputs": [
    {
     "name": "stdout",
     "output_type": "stream",
     "text": [
      "23.56\n",
      "0.0\n",
      "1e-06\n"
     ]
    }
   ],
   "source": [
    "#Logical AND  \n",
    "'''\n",
    "input1   and  input2   --> input1/input2\n",
    "\n",
    "result ---> input1 when the input1 is False case\n",
    "result ---> input2 when the input1 is True case\n",
    "'''\n",
    "print(10  and  23.56)\n",
    "'''\n",
    "0 ---> False\n",
    "0.0 --> False\n",
    "0+0j -> False\n",
    "\n",
    "\n",
    "'''\n",
    "print(0.0 and  23.56)\n",
    "print(10 and 0.000001)"
   ]
  },
  {
   "cell_type": "code",
   "execution_count": 6,
   "metadata": {},
   "outputs": [
    {
     "name": "stdout",
     "output_type": "stream",
     "text": [
      "10\n",
      "23.56\n",
      "10\n"
     ]
    }
   ],
   "source": [
    "#Logical ORR\n",
    "'''\n",
    "input1   or  input2   --> input1/input2\n",
    "\n",
    "result ---> input1 when the input1 is True case\n",
    "result ---> input2 when the input1 is False case\n",
    "'''\n",
    "print(10  or  23.56)  # 10\n",
    "'''\n",
    "0 ---> False\n",
    "0.0 --> False\n",
    "0+0j -> False\n",
    "\n",
    "\n",
    "'''\n",
    "print(0.0 or  23.56) # 23.56\n",
    "print(10 or 0.000001) # 10"
   ]
  },
  {
   "cell_type": "code",
   "execution_count": 1,
   "metadata": {},
   "outputs": [
    {
     "name": "stdout",
     "output_type": "stream",
     "text": [
      "0\n",
      "5\n"
     ]
    }
   ],
   "source": [
    "# bitwise Operator\n",
    "'''\n",
    "==>> inputs decimal --->> Binary input\n",
    "==>> Then do the operation on binary data\n",
    "==>> Binary result ----->> Decimal Result\n",
    "'''\n",
    "# 1. Bitwise  AND   &\n",
    "print(10 & 5)\n",
    "print(10 and 5)"
   ]
  },
  {
   "cell_type": "code",
   "execution_count": 2,
   "metadata": {},
   "outputs": [
    {
     "name": "stdout",
     "output_type": "stream",
     "text": [
      "2\n",
      "\n"
     ]
    }
   ],
   "source": [
    "print(34 & 23)\n",
    "'''\n",
    "Bitwise AND &\n",
    "\n",
    "0    0  ------>  0\n",
    " \n",
    "0    1 ------->  0\n",
    "\n",
    "1    0 ------->  0\n",
    "\n",
    "1    1 ------>>  1\n",
    "step1 :\n",
    "    34 ---> binary     1    0    0    0     1    0                                                   \n",
    "    23 ---> binary     0    1    0    1     1    1\n",
    "step 2 : \n",
    "    we have do the operation\n",
    "step :\n",
    "    Binary  result --> decimal\n",
    "'''\n",
    "print()"
   ]
  },
  {
   "cell_type": "code",
   "execution_count": 3,
   "metadata": {},
   "outputs": [
    {
     "name": "stdout",
     "output_type": "stream",
     "text": [
      "55\n",
      "\n"
     ]
    }
   ],
   "source": [
    "print(34 | 23)\n",
    "'''\n",
    "Bitwise OR   |\n",
    "\n",
    "0    0  ------>  0\n",
    " \n",
    "0    1 ------->  1\n",
    "\n",
    "1    0 ------->  1\n",
    "\n",
    "1    1 ------>>  1\n",
    "step1 :\n",
    "    34 ---> binary     1    0    0    0     1    0                                                   \n",
    "    23 ---> binary     0    1    0    1     1    1\n",
    "step 2 : \n",
    "    we have do the operation\n",
    "step :\n",
    "    Binary  result --> decimal\n",
    "'''\n",
    "print()"
   ]
  },
  {
   "cell_type": "code",
   "execution_count": null,
   "metadata": {},
   "outputs": [],
   "source": [
    "#  56 &   34 ----->>  i need the result on paper\n",
    "#  89 &   12  \n",
    "\n",
    "# 145  |   45\n",
    "# 86   |  234\n"
   ]
  },
  {
   "cell_type": "code",
   "execution_count": 1,
   "metadata": {},
   "outputs": [
    {
     "name": "stdout",
     "output_type": "stream",
     "text": [
      "15\n"
     ]
    }
   ],
   "source": [
    "# bitwise XOR    ^\n",
    "'''\n",
    "0  0   --->  0\n",
    "0  1   --->  1\n",
    "1  0   --->  1\n",
    "1  1   --->  0\n",
    "'''\n",
    "print(34 ^ 45)\n",
    "\n",
    "#  56 ^   34 ----->>  i need the result on paper"
   ]
  },
  {
   "cell_type": "code",
   "execution_count": 2,
   "metadata": {},
   "outputs": [
    {
     "name": "stdout",
     "output_type": "stream",
     "text": [
      "6\n"
     ]
    }
   ],
   "source": [
    "print( 12 ^ 10)"
   ]
  },
  {
   "cell_type": "code",
   "execution_count": 3,
   "metadata": {},
   "outputs": [
    {
     "name": "stdout",
     "output_type": "stream",
     "text": [
      "5\n"
     ]
    }
   ],
   "source": [
    "# bitwise right shift >>\n",
    "# num >> bits\n",
    "'''\n",
    "num ---> binary number\n",
    "remove no of bits from right side of binary number\n",
    "result binary ---> Decimal result\n",
    "'''\n",
    "print(45 >> 3)"
   ]
  },
  {
   "cell_type": "code",
   "execution_count": 4,
   "metadata": {},
   "outputs": [
    {
     "name": "stdout",
     "output_type": "stream",
     "text": [
      "2\n"
     ]
    }
   ],
   "source": [
    "print(34 >> 4)"
   ]
  },
  {
   "cell_type": "code",
   "execution_count": 6,
   "metadata": {},
   "outputs": [
    {
     "name": "stdout",
     "output_type": "stream",
     "text": [
      "19\n",
      "4\n",
      "3\n",
      "107\n",
      "597\n"
     ]
    }
   ],
   "source": [
    "print(78 >> 2)\n",
    "print(67 >> 4)\n",
    "print(99 >> 5)\n",
    "print(124 ^ 23)\n",
    "print(780 ^ 345)"
   ]
  },
  {
   "cell_type": "code",
   "execution_count": 3,
   "metadata": {},
   "outputs": [
    {
     "name": "stdout",
     "output_type": "stream",
     "text": [
      "768\n"
     ]
    }
   ],
   "source": [
    "# leftshift \n",
    "print(24 << 5)"
   ]
  },
  {
   "cell_type": "code",
   "execution_count": 4,
   "metadata": {},
   "outputs": [
    {
     "name": "stdout",
     "output_type": "stream",
     "text": [
      "272\n"
     ]
    }
   ],
   "source": [
    "print(34 << 3)"
   ]
  },
  {
   "cell_type": "code",
   "execution_count": 5,
   "metadata": {},
   "outputs": [
    {
     "name": "stdout",
     "output_type": "stream",
     "text": [
      "1248\n"
     ]
    }
   ],
   "source": [
    "print(78 << 4)"
   ]
  },
  {
   "cell_type": "code",
   "execution_count": 7,
   "metadata": {},
   "outputs": [
    {
     "name": "stdout",
     "output_type": "stream",
     "text": [
      "-9\n"
     ]
    }
   ],
   "source": [
    "# bitwise not   ~num   ==>> -( num + 1)\n",
    "print(~8) # -(8+1) =  -9"
   ]
  },
  {
   "cell_type": "code",
   "execution_count": 1,
   "metadata": {},
   "outputs": [
    {
     "name": "stdout",
     "output_type": "stream",
     "text": [
      "-101\n"
     ]
    }
   ],
   "source": [
    "print(~100) # -(100 +1) # -101"
   ]
  },
  {
   "cell_type": "code",
   "execution_count": 2,
   "metadata": {},
   "outputs": [
    {
     "name": "stdout",
     "output_type": "stream",
     "text": [
      "-7\n"
     ]
    }
   ],
   "source": [
    "print(~6)"
   ]
  },
  {
   "cell_type": "code",
   "execution_count": null,
   "metadata": {},
   "outputs": [],
   "source": []
  }
 ],
 "metadata": {
  "kernelspec": {
   "display_name": "Python 3",
   "language": "python",
   "name": "python3"
  },
  "language_info": {
   "codemirror_mode": {
    "name": "ipython",
    "version": 3
   },
   "file_extension": ".py",
   "mimetype": "text/x-python",
   "name": "python",
   "nbconvert_exporter": "python",
   "pygments_lexer": "ipython3",
   "version": "3.8.3"
  }
 },
 "nbformat": 4,
 "nbformat_minor": 4
}
