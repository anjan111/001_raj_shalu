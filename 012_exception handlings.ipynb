{
 "cells": [
  {
   "cell_type": "code",
   "execution_count": 4,
   "metadata": {},
   "outputs": [
    {
     "ename": "SyntaxError",
     "evalue": "Missing parentheses in call to 'print'. Did you mean print(b)? (<ipython-input-4-cd14748be3cb>, line 15)",
     "output_type": "error",
     "traceback": [
      "\u001b[1;36m  File \u001b[1;32m\"<ipython-input-4-cd14748be3cb>\"\u001b[1;36m, line \u001b[1;32m15\u001b[0m\n\u001b[1;33m    print b\u001b[0m\n\u001b[1;37m          ^\u001b[0m\n\u001b[1;31mSyntaxError\u001b[0m\u001b[1;31m:\u001b[0m Missing parentheses in call to 'print'. Did you mean print(b)?\n"
     ]
    }
   ],
   "source": [
    "# except  ---> error  --> stop in middle of execution\n",
    "# syntax  --->> BCZ structure error --->> we need to be modify the program\n",
    "# runtime  -->>  in execution we can get some error  ---> exception\n",
    "\n",
    "#try , except  ---->> to handle the exception\n",
    "'''\n",
    "try :\n",
    "    logic of the program\n",
    "except :\n",
    "    this is block excute when we got exceptions\n",
    "'''\n",
    "a = 10\n",
    "b = 20\n",
    "print(a)\n",
    "print b"
   ]
  },
  {
   "cell_type": "code",
   "execution_count": 5,
   "metadata": {},
   "outputs": [
    {
     "name": "stdout",
     "output_type": "stream",
     "text": [
      "10\n"
     ]
    },
    {
     "ename": "ZeroDivisionError",
     "evalue": "division by zero",
     "output_type": "error",
     "traceback": [
      "\u001b[1;31m---------------------------------------------------------------------------\u001b[0m",
      "\u001b[1;31mZeroDivisionError\u001b[0m                         Traceback (most recent call last)",
      "\u001b[1;32m<ipython-input-5-aa688bc49736>\u001b[0m in \u001b[0;36m<module>\u001b[1;34m\u001b[0m\n\u001b[0;32m      2\u001b[0m \u001b[0mb\u001b[0m \u001b[1;33m=\u001b[0m \u001b[1;36m20\u001b[0m\u001b[1;33m\u001b[0m\u001b[1;33m\u001b[0m\u001b[0m\n\u001b[0;32m      3\u001b[0m \u001b[0mprint\u001b[0m\u001b[1;33m(\u001b[0m\u001b[0ma\u001b[0m\u001b[1;33m)\u001b[0m\u001b[1;33m\u001b[0m\u001b[1;33m\u001b[0m\u001b[0m\n\u001b[1;32m----> 4\u001b[1;33m \u001b[0mprint\u001b[0m\u001b[1;33m(\u001b[0m\u001b[1;36m10\u001b[0m\u001b[1;33m/\u001b[0m\u001b[1;36m0\u001b[0m\u001b[1;33m)\u001b[0m \u001b[1;31m# error\u001b[0m\u001b[1;33m\u001b[0m\u001b[1;33m\u001b[0m\u001b[0m\n\u001b[0m",
      "\u001b[1;31mZeroDivisionError\u001b[0m: division by zero"
     ]
    }
   ],
   "source": [
    "a = 10\n",
    "b = 20\n",
    "print(a)\n",
    "print(10/0) # error"
   ]
  },
  {
   "cell_type": "code",
   "execution_count": null,
   "metadata": {},
   "outputs": [],
   "source": [
    "a = 10\n",
    "b = 20\n",
    "print(a)\n",
    "import dfkjgnfdjgkldfgj\n",
    "print(b)"
   ]
  },
  {
   "cell_type": "code",
   "execution_count": null,
   "metadata": {},
   "outputs": [],
   "source": [
    "a = 10\n",
    "b = 20\n",
    "print(a)\n",
    "open(\"jhhsfgjkfhgkjfghkf\",\"r\")\n",
    "print(b)"
   ]
  },
  {
   "cell_type": "code",
   "execution_count": null,
   "metadata": {},
   "outputs": [],
   "source": [
    "a = 10\n",
    "b = 20\n",
    "print(a)\n",
    "print(int(2+4j))\n",
    "print(b)"
   ]
  },
  {
   "cell_type": "code",
   "execution_count": null,
   "metadata": {},
   "outputs": [],
   "source": [
    "a = 10\n",
    "b = 20\n",
    "print(a)\n",
    "int(\"23.97\")\n",
    "print(b)"
   ]
  },
  {
   "cell_type": "code",
   "execution_count": null,
   "metadata": {},
   "outputs": [],
   "source": [
    "# attribute error , KeyError ,indexError\n",
    "\n",
    "try :\n",
    "    a = 10\n",
    "    b = 20\n",
    "    print(a)\n",
    "    int(\"23.97\")\n",
    "    print(b)\n",
    "except:\n",
    "    print(\"I am at except block\")"
   ]
  },
  {
   "cell_type": "code",
   "execution_count": null,
   "metadata": {},
   "outputs": [],
   "source": [
    "try :\n",
    "    a = 10\n",
    "    b = 20\n",
    "    print(a)\n",
    "    int(3+5j)\n",
    "    print(b)\n",
    "except:\n",
    "    print(\"I am at except block\")"
   ]
  },
  {
   "cell_type": "code",
   "execution_count": null,
   "metadata": {},
   "outputs": [],
   "source": [
    "try :\n",
    "    a = 10\n",
    "    b = 20\n",
    "    print(a)\n",
    "    int(3+5j)\n",
    "    print(b)\n",
    "except ValueError:\n",
    "    print(\"I can do task for related Values Error\")\n",
    "except TypeError:\n",
    "    print(\"I can do task for related Type Error\")\n",
    "except:\n",
    "    print(\"I am at except block\")"
   ]
  },
  {
   "cell_type": "code",
   "execution_count": null,
   "metadata": {},
   "outputs": [],
   "source": [
    "try :\n",
    "    a = 10\n",
    "    b = 20\n",
    "    print(a)\n",
    "    int(3+5j)\n",
    "    print(b)\n",
    "except ZeroDivisionError:\n",
    "    print(\"I can hanlde Zero Division Lated error\")\n",
    "except ValueError:\n",
    "    print(\"I can do task for related Values Error\")\n",
    "except TypeError:\n",
    "    print(\"I can do task for related Type Error\")\n",
    "except:\n",
    "    print(\"I am at except block\")"
   ]
  },
  {
   "cell_type": "code",
   "execution_count": null,
   "metadata": {},
   "outputs": [],
   "source": [
    "try :\n",
    "    a = 10\n",
    "    b = 20\n",
    "    print(a)\n",
    "    int(\"3.454\")\n",
    "    print(b)\n",
    "except ZeroDivisionError:\n",
    "    print(\"I can hanlde Zero Division Lated error\")\n",
    "except ValueError:\n",
    "    print(\"I can do task for related Values Error\")\n",
    "except TypeError:\n",
    "    print(\"I can do task for related Type Error\")\n",
    "except:\n",
    "    print(\"I am at except block\")"
   ]
  },
  {
   "cell_type": "code",
   "execution_count": null,
   "metadata": {},
   "outputs": [],
   "source": [
    "try :\n",
    "    a = 10\n",
    "    b = 20\n",
    "    print(a)\n",
    "    print(10/0)\n",
    "    print(b)\n",
    "except ZeroDivisionError:\n",
    "    print(\"I can hanlde Zero Division Lated error\")\n",
    "except ValueError:\n",
    "    print(\"I can do task for related Values Error\")\n",
    "except TypeError:\n",
    "    print(\"I can do task for related Type Error\")\n",
    "except:\n",
    "    print(\"I am at except block\")"
   ]
  },
  {
   "cell_type": "code",
   "execution_count": null,
   "metadata": {},
   "outputs": [],
   "source": [
    "try :\n",
    "    a = 10\n",
    "    b = 20\n",
    "    print(a)\n",
    "    int(3)\n",
    "    print(b)\n",
    "except ZeroDivisionError:\n",
    "    print(\"I can hanlde Zero Division Lated error\")\n",
    "except ValueError:\n",
    "    print(\"I can do task for related Values Error\")\n",
    "except TypeError:\n",
    "    print(\"I can do task for related Type Error\")\n",
    "except:\n",
    "    print(\"I am at except block\")\n",
    "else:\n",
    "    print(\"if we couldn't any exception\")\n",
    "finally:\n",
    "    print(\"at any situation finally block can execute\")"
   ]
  },
  {
   "cell_type": "code",
   "execution_count": null,
   "metadata": {},
   "outputs": [],
   "source": [
    "try :\n",
    "    a = 10\n",
    "    b = 20\n",
    "    print(a)\n",
    "    raise\n",
    "    print(b)\n",
    "except ZeroDivisionError:\n",
    "    print(\"I can hanlde Zero Division Lated error\")\n",
    "except ValueError:\n",
    "    print(\"I can do task for related Values Error\")\n",
    "except TypeError:\n",
    "    print(\"I can do task for related Type Error\")\n",
    "except:\n",
    "    print(\"I am at except block\")\n",
    "else:\n",
    "    print(\"if we couldn't any exception\")\n",
    "finally:\n",
    "    print(\"at any situation finally block can execute\")"
   ]
  },
  {
   "cell_type": "code",
   "execution_count": null,
   "metadata": {},
   "outputs": [],
   "source": [
    "try :\n",
    "    a = 10\n",
    "    b = 20\n",
    "    print(a)\n",
    "    raise ValueError\n",
    "    print(b)\n",
    "except ZeroDivisionError:\n",
    "    print(\"I can hanlde Zero Division Lated error\")\n",
    "except ValueError:\n",
    "    print(\"I can do task for related Values Error\")\n",
    "except TypeError:\n",
    "    print(\"I can do task for related Type Error\")\n",
    "except:\n",
    "    print(\"I am at except block\")\n",
    "else:\n",
    "    print(\"if we couldn't any exception\")\n",
    "finally:\n",
    "    print(\"at any situation finally block can execute\")"
   ]
  },
  {
   "cell_type": "code",
   "execution_count": null,
   "metadata": {},
   "outputs": [],
   "source": [
    "try :\n",
    "    a = 10\n",
    "    b = 20\n",
    "    print(a)\n",
    "    raise ValueError\n",
    "    print(b)\n",
    "    raise TypeError\n",
    "except ZeroDivisionError:\n",
    "    print(\"I can hanlde Zero Division Lated error\")\n",
    "except ValueError:\n",
    "    print(\"I can do task for related Values Error\")\n",
    "except TypeError:\n",
    "    print(\"I can do task for related Type Error\")\n",
    "except:\n",
    "    print(\"I am at except block\")\n",
    "else:\n",
    "    print(\"if we couldn't any exception\")\n",
    "finally:\n",
    "    print(\"at any situation finally block can execute\")"
   ]
  },
  {
   "cell_type": "code",
   "execution_count": null,
   "metadata": {},
   "outputs": [],
   "source": [
    "try :\n",
    "    a = 10\n",
    "    b = 20\n",
    "    if(a/1== a):\n",
    "        raise \n",
    "    raise TypeError\n",
    "except ZeroDivisionError:\n",
    "    print(\"I can hanlde Zero Division Lated error\")\n",
    "except ValueError:\n",
    "    print(\"I can do task for related Values Error\")\n",
    "except TypeError:\n",
    "    print(\"I can do task for related Type Error\")\n",
    "except:\n",
    "    print(\"I am at except block\")\n",
    "else:\n",
    "    print(\"if we couldn't any exception\")\n",
    "finally:\n",
    "    print(\"at any situation finally block can execute\")"
   ]
  },
  {
   "cell_type": "code",
   "execution_count": 3,
   "metadata": {},
   "outputs": [
    {
     "name": "stdout",
     "output_type": "stream",
     "text": [
      "enter int : 12\n",
      "enter Int Dat only 12.7\n",
      "enter int : 12\n",
      "enter Int Dat only 12\n"
     ]
    }
   ],
   "source": [
    "a = None\n",
    "while(1):\n",
    "    try :\n",
    "        a = input(\"enter int : \")\n",
    "        if(not isinstance(a,int)):\n",
    "            raise\n",
    "        break\n",
    "    except:\n",
    "        try :\n",
    "            a= int(input(\"enter Int Dat only \"))\n",
    "            if(not isinstance(a,int)):\n",
    "                   pass\n",
    "            break\n",
    "        except:\n",
    "            pass"
   ]
  },
  {
   "cell_type": "code",
   "execution_count": null,
   "metadata": {},
   "outputs": [],
   "source": []
  }
 ],
 "metadata": {
  "kernelspec": {
   "display_name": "Python 3",
   "language": "python",
   "name": "python3"
  },
  "language_info": {
   "codemirror_mode": {
    "name": "ipython",
    "version": 3
   },
   "file_extension": ".py",
   "mimetype": "text/x-python",
   "name": "python",
   "nbconvert_exporter": "python",
   "pygments_lexer": "ipython3",
   "version": "3.8.3"
  }
 },
 "nbformat": 4,
 "nbformat_minor": 4
}
