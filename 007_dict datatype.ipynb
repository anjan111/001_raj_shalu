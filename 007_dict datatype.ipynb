{
 "cells": [
  {
   "cell_type": "code",
   "execution_count": 2,
   "metadata": {},
   "outputs": [
    {
     "name": "stdout",
     "output_type": "stream",
     "text": [
      "{}\n",
      "<class 'dict'>\n"
     ]
    }
   ],
   "source": [
    "# what is Dict  --->> collection of records / items\n",
    "# pair of key & values --> record / item\n",
    "var = {} # empty dict\n",
    "print(var)\n",
    "print(type(var))"
   ]
  },
  {
   "cell_type": "code",
   "execution_count": 3,
   "metadata": {},
   "outputs": [
    {
     "name": "stdout",
     "output_type": "stream",
     "text": [
      "{'piyali': '12Lac PA', 'Raj': '20Lac PA'}\n",
      "<class 'dict'>\n"
     ]
    }
   ],
   "source": [
    "# Hetrogenious datatype\n",
    "emp_data = {\"piyali\" : \"12Lac PA\" , \"Raj\" : \"20Lac PA\"} \n",
    "print(emp_data)\n",
    "print(type(emp_data))"
   ]
  },
  {
   "cell_type": "code",
   "execution_count": 4,
   "metadata": {},
   "outputs": [
    {
     "name": "stdout",
     "output_type": "stream",
     "text": [
      "{'piyali': 6787, 'Raj': '20Lac PA'}\n",
      "<class 'dict'>\n"
     ]
    }
   ],
   "source": [
    "# dict --> duplicate keys\n",
    "emp_data = {\"piyali\" : \"12Lac PA\" , \"Raj\" : \"20Lac PA\" ,\"piyali\" : 6787} \n",
    "print(emp_data)\n",
    "print(type(emp_data))"
   ]
  },
  {
   "cell_type": "code",
   "execution_count": 5,
   "metadata": {},
   "outputs": [
    {
     "name": "stdout",
     "output_type": "stream",
     "text": [
      "{23: {1, 2, 3}, 23.12: [1, 2, 3], (3+5j): {12: 34}, True: 12, None: 456, 'soc': 234, (1, 2, 3): 90}\n"
     ]
    }
   ],
   "source": [
    "# keys -> sets rules -> int ,float , complex , None , bool , str, tuple\n",
    "# values  ---> can be any datatype\n",
    "d = {23 : {1,2,3} , 23.12 :[1,2,3] ,3+5j : {12:34},True : 12 , None : 456 , \"soc\" : 234 ,(1,2,3) : 90}\n",
    "print(d)"
   ]
  },
  {
   "cell_type": "code",
   "execution_count": 6,
   "metadata": {},
   "outputs": [
    {
     "ename": "TypeError",
     "evalue": "unhashable type: 'list'",
     "output_type": "error",
     "traceback": [
      "\u001b[1;31m---------------------------------------------------------------------------\u001b[0m",
      "\u001b[1;31mTypeError\u001b[0m                                 Traceback (most recent call last)",
      "\u001b[1;32m<ipython-input-6-b69643c94768>\u001b[0m in \u001b[0;36m<module>\u001b[1;34m\u001b[0m\n\u001b[1;32m----> 1\u001b[1;33m \u001b[0md\u001b[0m \u001b[1;33m=\u001b[0m \u001b[1;33m{\u001b[0m\u001b[1;33m[\u001b[0m\u001b[1;36m12\u001b[0m\u001b[1;33m,\u001b[0m\u001b[1;36m34\u001b[0m\u001b[1;33m]\u001b[0m \u001b[1;33m:\u001b[0m \u001b[1;34m\"soc\"\u001b[0m\u001b[1;33m}\u001b[0m\u001b[1;33m\u001b[0m\u001b[1;33m\u001b[0m\u001b[0m\n\u001b[0m",
      "\u001b[1;31mTypeError\u001b[0m: unhashable type: 'list'"
     ]
    }
   ],
   "source": [
    "d = {[12,34] : \"soc\"}"
   ]
  },
  {
   "cell_type": "code",
   "execution_count": 7,
   "metadata": {},
   "outputs": [
    {
     "ename": "TypeError",
     "evalue": "unhashable type: 'set'",
     "output_type": "error",
     "traceback": [
      "\u001b[1;31m---------------------------------------------------------------------------\u001b[0m",
      "\u001b[1;31mTypeError\u001b[0m                                 Traceback (most recent call last)",
      "\u001b[1;32m<ipython-input-7-1c3f0be41138>\u001b[0m in \u001b[0;36m<module>\u001b[1;34m\u001b[0m\n\u001b[1;32m----> 1\u001b[1;33m \u001b[0md\u001b[0m \u001b[1;33m=\u001b[0m \u001b[1;33m{\u001b[0m\u001b[1;33m{\u001b[0m\u001b[1;36m12\u001b[0m\u001b[1;33m,\u001b[0m\u001b[1;36m34\u001b[0m\u001b[1;33m}\u001b[0m \u001b[1;33m:\u001b[0m \u001b[1;34m\"soc\"\u001b[0m\u001b[1;33m}\u001b[0m\u001b[1;33m\u001b[0m\u001b[1;33m\u001b[0m\u001b[0m\n\u001b[0m",
      "\u001b[1;31mTypeError\u001b[0m: unhashable type: 'set'"
     ]
    }
   ],
   "source": [
    "d = {{12,34} : \"soc\"}"
   ]
  },
  {
   "cell_type": "code",
   "execution_count": 8,
   "metadata": {},
   "outputs": [
    {
     "ename": "TypeError",
     "evalue": "unhashable type: 'dict'",
     "output_type": "error",
     "traceback": [
      "\u001b[1;31m---------------------------------------------------------------------------\u001b[0m",
      "\u001b[1;31mTypeError\u001b[0m                                 Traceback (most recent call last)",
      "\u001b[1;32m<ipython-input-8-fab889fb3840>\u001b[0m in \u001b[0;36m<module>\u001b[1;34m\u001b[0m\n\u001b[1;32m----> 1\u001b[1;33m \u001b[0md\u001b[0m \u001b[1;33m=\u001b[0m \u001b[1;33m{\u001b[0m\u001b[1;33m{\u001b[0m\u001b[1;36m12\u001b[0m\u001b[1;33m:\u001b[0m\u001b[1;36m34\u001b[0m\u001b[1;33m}\u001b[0m \u001b[1;33m:\u001b[0m \u001b[1;34m\"soc\"\u001b[0m\u001b[1;33m}\u001b[0m\u001b[1;33m\u001b[0m\u001b[1;33m\u001b[0m\u001b[0m\n\u001b[0m",
      "\u001b[1;31mTypeError\u001b[0m: unhashable type: 'dict'"
     ]
    }
   ],
   "source": [
    "d = {{12:34} : \"soc\"}"
   ]
  },
  {
   "cell_type": "code",
   "execution_count": 9,
   "metadata": {},
   "outputs": [
    {
     "name": "stdout",
     "output_type": "stream",
     "text": [
      "{23: {1, 2, 3}, 23.12: [1, 2, 3], (3+5j): {12: 34}, True: 12, None: 456, 'soc': 234, (1, 2, 3): 90}\n"
     ]
    },
    {
     "data": {
      "text/plain": [
       "dict_keys([23, 23.12, (3+5j), True, None, 'soc', (1, 2, 3)])"
      ]
     },
     "execution_count": 9,
     "metadata": {},
     "output_type": "execute_result"
    }
   ],
   "source": [
    "d = {23 : {1,2,3} , 23.12 :[1,2,3] ,3+5j : {12:34},True : 12 , None : 456 , \"soc\" : 234 ,(1,2,3) : 90}\n",
    "print(d)\n",
    "d.keys()"
   ]
  },
  {
   "cell_type": "code",
   "execution_count": 10,
   "metadata": {},
   "outputs": [
    {
     "name": "stdout",
     "output_type": "stream",
     "text": [
      "{23: {1, 2, 3}, 23.12: [1, 2, 3], (3+5j): {12: 34}, True: 12, None: 456, 'soc': 234, (1, 2, 3): 90}\n"
     ]
    },
    {
     "data": {
      "text/plain": [
       "dict_values([{1, 2, 3}, [1, 2, 3], {12: 34}, 12, 456, 234, 90])"
      ]
     },
     "execution_count": 10,
     "metadata": {},
     "output_type": "execute_result"
    }
   ],
   "source": [
    "d = {23 : {1,2,3} , 23.12 :[1,2,3] ,3+5j : {12:34},True : 12 , None : 456 , \"soc\" : 234 ,(1,2,3) : 90}\n",
    "print(d)\n",
    "d.values()"
   ]
  },
  {
   "cell_type": "code",
   "execution_count": 13,
   "metadata": {},
   "outputs": [
    {
     "name": "stdout",
     "output_type": "stream",
     "text": [
      "{23: {1, 2, 3}, 23.12: [1, 2, 3], (3+5j): {12: 34}, True: 12, None: 456, 'soc': 234, (1, 2, 3): 90}\n",
      "{23: {1, 2, 3}, 23.12: [1, 2, 3], (3+5j): {12: 34}, True: 12, None: 456, 'soc': 234}\n",
      "{23: {1, 2, 3}, 23.12: [1, 2, 3], (3+5j): {12: 34}, True: 12, None: 456}\n"
     ]
    }
   ],
   "source": [
    "# popitem()\n",
    "# pop()\n",
    "d = {23 : {1,2,3} , 23.12 :[1,2,3] ,3+5j : {12:34},True : 12 , None : 456 , \"soc\" : 234 ,(1,2,3) : 90}\n",
    "print(d)\n",
    "d.popitem()\n",
    "print(d)\n",
    "d.popitem()\n",
    "print(d)"
   ]
  },
  {
   "cell_type": "code",
   "execution_count": 14,
   "metadata": {},
   "outputs": [
    {
     "name": "stdout",
     "output_type": "stream",
     "text": [
      "{23: {1, 2, 3}, 23.12: [1, 2, 3], (3+5j): {12: 34}, True: 12, None: 456, 'soc': 234, (1, 2, 3): 90}\n",
      "{23: {1, 2, 3}, 23.12: [1, 2, 3], (3+5j): {12: 34}, None: 456, 'soc': 234, (1, 2, 3): 90}\n",
      "{23: {1, 2, 3}, 23.12: [1, 2, 3], (3+5j): {12: 34}, None: 456, 'soc': 234}\n"
     ]
    }
   ],
   "source": [
    "# popitem()\n",
    "# pop()\n",
    "d = {23 : {1,2,3} , 23.12 :[1,2,3] ,3+5j : {12:34},True : 12 , None : 456 , \"soc\" : 234 ,(1,2,3) : 90}\n",
    "print(d)\n",
    "d.pop(True)\n",
    "print(d)\n",
    "d.pop((1,2,3))\n",
    "print(d)"
   ]
  },
  {
   "cell_type": "code",
   "execution_count": 15,
   "metadata": {},
   "outputs": [
    {
     "name": "stdout",
     "output_type": "stream",
     "text": [
      "{23: {1, 2, 3}, 23.12: [1, 2, 3], (3+5j): {12: 34}, True: 12, None: 456, 'soc': 234, (1, 2, 3): 90}\n",
      "12\n",
      "{23: {1, 2, 3}, 23.12: [1, 2, 3], (3+5j): {12: 34}, True: 12, None: 456, 'soc': 234, (1, 2, 3): 90}\n",
      "90\n",
      "{23: {1, 2, 3}, 23.12: [1, 2, 3], (3+5j): {12: 34}, True: 12, None: 456, 'soc': 234, (1, 2, 3): 90}\n"
     ]
    }
   ],
   "source": [
    "# popitem()\n",
    "# pop()\n",
    "d = {23 : {1,2,3} , 23.12 :[1,2,3] ,3+5j : {12:34},True : 12 , None : 456 , \"soc\" : 234 ,(1,2,3) : 90}\n",
    "print(d)\n",
    "print(d.get(True))\n",
    "print(d)\n",
    "print(d.get((1,2,3)))\n",
    "print(d)"
   ]
  },
  {
   "cell_type": "code",
   "execution_count": 16,
   "metadata": {},
   "outputs": [
    {
     "name": "stdout",
     "output_type": "stream",
     "text": [
      "{23: {1, 2, 3}, 23.12: [1, 2, 3], (3+5j): {12: 34}, True: 12, None: 456, 'soc': 234, (1, 2, 3): 90}\n",
      "{}\n"
     ]
    }
   ],
   "source": [
    "# popitem()\n",
    "# pop()\n",
    "d = {23 : {1,2,3} , 23.12 :[1,2,3] ,3+5j : {12:34},True : 12 , None : 456 , \"soc\" : 234 ,(1,2,3) : 90}\n",
    "print(d)\n",
    "d.clear()\n",
    "print(d)"
   ]
  },
  {
   "cell_type": "code",
   "execution_count": 17,
   "metadata": {},
   "outputs": [
    {
     "name": "stdout",
     "output_type": "stream",
     "text": [
      "{23: {1, 2, 3}, 23.12: [1, 2, 3], (3+5j): {12: 34}, True: 12, None: 456, 'soc': 234, (1, 2, 3): 90}\n",
      "{23: {1, 2, 3}, 23.12: [1, 2, 3], (3+5j): {12: 34}, True: 12, None: 456, 'soc': 234, (1, 2, 3): 90}\n",
      "{23: {1, 2, 3}, 23.12: [1, 2, 3], (3+5j): {12: 34}, True: 12, None: 456, 'soc': 234, (1, 2, 3): 90}\n",
      "3040991296064\n",
      "3040991327296\n"
     ]
    }
   ],
   "source": [
    "# popitem()\n",
    "# pop()\n",
    "d = {23 : {1,2,3} , 23.12 :[1,2,3] ,3+5j : {12:34},True : 12 , None : 456 , \"soc\" : 234 ,(1,2,3) : 90}\n",
    "print(d)\n",
    "a = d.copy()\n",
    "print(d)\n",
    "print(a)\n",
    "print(id(d))\n",
    "print(id(a))"
   ]
  },
  {
   "cell_type": "code",
   "execution_count": 18,
   "metadata": {},
   "outputs": [
    {
     "name": "stdout",
     "output_type": "stream",
     "text": [
      "{23: {1, 2, 3}, 23.12: [1, 2, 3], (3+5j): {12: 34}, True: 12, None: 456, 'soc': 234, (1, 2, 3): 90}\n",
      "{23: {1, 2, 3}, 23.12: [1, 2, 3], (3+5j): {12: 34}, True: 12, None: 456, 'soc': 234, (1, 2, 3): 90}\n",
      "3040991327744\n",
      "3040991327744\n"
     ]
    }
   ],
   "source": [
    "d = {23 : {1,2,3} , 23.12 :[1,2,3] ,3+5j : {12:34},True : 12 , None : 456 , \"soc\" : 234 ,(1,2,3) : 90}\n",
    "a = d\n",
    "print(d)\n",
    "print(a)\n",
    "print(id(d))\n",
    "print(id(a))"
   ]
  },
  {
   "cell_type": "code",
   "execution_count": 19,
   "metadata": {},
   "outputs": [
    {
     "name": "stdout",
     "output_type": "stream",
     "text": [
      "{100: 34, 123: 567, 23: {1, 2, 3}, 23.12: [1, 2, 3], (3+5j): {12: 34}, True: 12, None: 456, 'soc': 234, (1, 2, 3): 90}\n"
     ]
    }
   ],
   "source": [
    "d = {23 : {1,2,3} , 23.12 :[1,2,3] ,3+5j : {12:34},True : 12 , None : 456 , \"soc\" : 234 ,(1,2,3) : 90}\n",
    "e = {100 : 34 , 123  :567}\n",
    "e.update(d)\n",
    "print(e)"
   ]
  },
  {
   "cell_type": "code",
   "execution_count": 20,
   "metadata": {},
   "outputs": [
    {
     "name": "stdout",
     "output_type": "stream",
     "text": [
      "{23: {1, 2, 3}, 23.12: [1, 2, 3], (3+5j): {12: 34}, True: 12, None: 456, 'soc': 234, (1, 2, 3): 90}\n",
      "{23: 456, 23.12: [1, 2, 3], (3+5j): {12: 34}, True: 12, None: 456, 'soc': 234, (1, 2, 3): 90}\n"
     ]
    }
   ],
   "source": [
    "d = {23 : {1,2,3} , 23.12 :[1,2,3] ,3+5j : {12:34},True : 12 , None : 456 , \"soc\" : 234 ,(1,2,3) : 90}\n",
    "print(d)\n",
    "d[23] =456\n",
    "print(d)"
   ]
  },
  {
   "cell_type": "code",
   "execution_count": 21,
   "metadata": {},
   "outputs": [
    {
     "name": "stdout",
     "output_type": "stream",
     "text": [
      "{23: {1, 2, 3}, 23.12: [1, 2, 3], (3+5j): {12: 34}, True: 12, None: 456, 'soc': 234, (1, 2, 3): 90}\n",
      "{23: {1, 2, 3}, 23.12: [1, 2, 3], (3+5j): {12: 34}, True: 12, None: 456, 'soc': 234, (1, 2, 3): 90, 2334: 456}\n"
     ]
    }
   ],
   "source": [
    "d = {23 : {1,2,3} , 23.12 :[1,2,3] ,3+5j : {12:34},True : 12 , None : 456 , \"soc\" : 234 ,(1,2,3) : 90}\n",
    "print(d)\n",
    "d[2334] =456\n",
    "print(d)"
   ]
  },
  {
   "cell_type": "code",
   "execution_count": null,
   "metadata": {},
   "outputs": [],
   "source": []
  }
 ],
 "metadata": {
  "kernelspec": {
   "display_name": "Python 3",
   "language": "python",
   "name": "python3"
  },
  "language_info": {
   "codemirror_mode": {
    "name": "ipython",
    "version": 3
   },
   "file_extension": ".py",
   "mimetype": "text/x-python",
   "name": "python",
   "nbconvert_exporter": "python",
   "pygments_lexer": "ipython3",
   "version": "3.8.3"
  }
 },
 "nbformat": 4,
 "nbformat_minor": 4
}
