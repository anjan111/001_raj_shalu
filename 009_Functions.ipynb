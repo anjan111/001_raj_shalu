{
 "cells": [
  {
   "cell_type": "markdown",
   "metadata": {},
   "source": [
    "# What is Function\n",
    "\n",
    "===>>  Set of instructions to do any one specific task with in the program\n",
    "\n",
    "===>>  To reduce  the code size\n",
    "\n",
    "===>>  Te reduce complexity of the program understanding \n",
    "\n",
    "#### User Defined Functions\n",
    "\n",
    "===>> We need two functional Components\n",
    "\n",
    "1. Function Defination\n",
    "\n",
    "----->> It is collection of instructions( Logic of the Task ) with in the block\n",
    "\n",
    "----->> def keyword is used for to create the function defination\n",
    "\n",
    "2. Function Call\n",
    "\n",
    "--->>> To execute the function defination whenever we required \n"
   ]
  },
  {
   "cell_type": "code",
   "execution_count": null,
   "metadata": {},
   "outputs": [],
   "source": [
    "# syntax for to create the functions\n",
    "\n",
    "# function defination  syntax\n",
    "\n",
    "def  user_fun_name():\n",
    "    '''\n",
    "    Function Logic\n",
    "    '''\n",
    "    pass\n",
    "\n",
    "# function call\n",
    "user_fun_name()"
   ]
  },
  {
   "cell_type": "code",
   "execution_count": null,
   "metadata": {},
   "outputs": [],
   "source": [
    "# waf for addition of two numbers\n",
    "\n",
    "a = int(input(\"enter a : \"))\n",
    "b = int(input(\"enter b : \"))\n",
    "print(a,\" + \",b,\"  =  \",a+b)"
   ]
  },
  {
   "cell_type": "code",
   "execution_count": null,
   "metadata": {},
   "outputs": [],
   "source": [
    "def  addition():\n",
    "    a = int(input(\"enter a : \"))\n",
    "    b = int(input(\"enter b : \"))\n",
    "    print(a,\" + \",b,\"  =  \",a+b)"
   ]
  },
  {
   "cell_type": "code",
   "execution_count": null,
   "metadata": {},
   "outputs": [],
   "source": [
    "def  addition():\n",
    "    a = int(input(\"enter a : \"))\n",
    "    b = int(input(\"enter b : \"))\n",
    "    print(a,\" + \",b,\"  =  \",a+b)\n",
    "addition()  # funnction call"
   ]
  },
  {
   "cell_type": "code",
   "execution_count": null,
   "metadata": {},
   "outputs": [],
   "source": [
    "# waf for addition of two numbers\n",
    "\n",
    "a = int(input(\"enter a : \"))\n",
    "b = int(input(\"enter b : \"))\n",
    "print(a,\" + \",b,\"  =  \",a+b)\n",
    "# waf for addition of two numbers\n",
    "\n",
    "a = int(input(\"enter a : \"))\n",
    "b = int(input(\"enter b : \"))\n",
    "print(a,\" + \",b,\"  =  \",a+b)\n",
    "# waf for addition of two numbers\n",
    "\n",
    "a = int(input(\"enter a : \"))\n",
    "b = int(input(\"enter b : \"))\n",
    "print(a,\" + \",b,\"  =  \",a+b)"
   ]
  },
  {
   "cell_type": "code",
   "execution_count": null,
   "metadata": {},
   "outputs": [],
   "source": [
    "def  addition():\n",
    "    a = int(input(\"enter a : \"))\n",
    "    b = int(input(\"enter b : \"))\n",
    "    print(a,\" + \",b,\"  =  \",a+b)\n",
    "addition()  # funnction call\n",
    "addition()  # funnction call\n",
    "addition()  # funnction call"
   ]
  },
  {
   "cell_type": "code",
   "execution_count": 2,
   "metadata": {},
   "outputs": [
    {
     "name": "stdout",
     "output_type": "stream",
     "text": [
      "enter : 1\n",
      "1  Is not a prime number\n",
      "enter : 9\n",
      "9  is not a prime\n"
     ]
    }
   ],
   "source": [
    "# waf for given number is prime or not\n",
    "def isprime():\n",
    "    N = int(input(\"enter : \"))\n",
    "    if(N>=2):\n",
    "        for var in range(2,N):\n",
    "            if(N % var == 0):\n",
    "                print(N,\" is not a prime\")\n",
    "                break\n",
    "        else:\n",
    "            print(N, \"is a prime \")\n",
    "    else:\n",
    "        print(N,\" Is not a prime number\")\n",
    "\n",
    "isprime()\n",
    "isprime()\n"
   ]
  },
  {
   "cell_type": "code",
   "execution_count": null,
   "metadata": {},
   "outputs": [],
   "source": [
    "# waf for factorial of a number\n",
    "\n",
    "# waf for reverse of a number\n",
    "\n",
    "# waf for no of digits in a number"
   ]
  }
 ],
 "metadata": {
  "kernelspec": {
   "display_name": "Python 3",
   "language": "python",
   "name": "python3"
  },
  "language_info": {
   "codemirror_mode": {
    "name": "ipython",
    "version": 3
   },
   "file_extension": ".py",
   "mimetype": "text/x-python",
   "name": "python",
   "nbconvert_exporter": "python",
   "pygments_lexer": "ipython3",
   "version": "3.8.3"
  }
 },
 "nbformat": 4,
 "nbformat_minor": 4
}
