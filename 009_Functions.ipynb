{
 "cells": [
  {
   "cell_type": "markdown",
   "metadata": {},
   "source": [
    "# What is Function\n",
    "\n",
    "===>>  Set of instructions to do any one specific task with in the program\n",
    "\n",
    "===>>  To reduce  the code size\n",
    "\n",
    "===>>  Te reduce complexity of the program understanding \n",
    "\n",
    "#### User Defined Functions\n",
    "\n",
    "===>> We need two functional Components\n",
    "\n",
    "1. Function Defination\n",
    "\n",
    "----->> It is collection of instructions( Logic of the Task ) with in the block\n",
    "\n",
    "----->> def keyword is used for to create the function defination\n",
    "\n",
    "2. Function Call\n",
    "\n",
    "--->>> To execute the function defination whenever we required \n"
   ]
  },
  {
   "cell_type": "code",
   "execution_count": null,
   "metadata": {},
   "outputs": [],
   "source": [
    "# syntax for to create the functions\n",
    "\n",
    "# function defination  syntax\n",
    "\n",
    "def  user_fun_name():\n",
    "    '''\n",
    "    Function Logic\n",
    "    '''\n",
    "    pass\n",
    "\n",
    "# function call\n",
    "user_fun_name()"
   ]
  },
  {
   "cell_type": "code",
   "execution_count": null,
   "metadata": {},
   "outputs": [],
   "source": [
    "# waf for addition of two numbers\n",
    "\n",
    "a = int(input(\"enter a : \"))\n",
    "b = int(input(\"enter b : \"))\n",
    "print(a,\" + \",b,\"  =  \",a+b)"
   ]
  },
  {
   "cell_type": "code",
   "execution_count": null,
   "metadata": {},
   "outputs": [],
   "source": [
    "def  addition():\n",
    "    a = int(input(\"enter a : \"))\n",
    "    b = int(input(\"enter b : \"))\n",
    "    print(a,\" + \",b,\"  =  \",a+b)"
   ]
  },
  {
   "cell_type": "code",
   "execution_count": null,
   "metadata": {},
   "outputs": [],
   "source": [
    "def  addition():\n",
    "    a = int(input(\"enter a : \"))\n",
    "    b = int(input(\"enter b : \"))\n",
    "    print(a,\" + \",b,\"  =  \",a+b)\n",
    "addition()  # funnction call"
   ]
  },
  {
   "cell_type": "code",
   "execution_count": null,
   "metadata": {},
   "outputs": [],
   "source": [
    "# waf for addition of two numbers\n",
    "\n",
    "a = int(input(\"enter a : \"))\n",
    "b = int(input(\"enter b : \"))\n",
    "print(a,\" + \",b,\"  =  \",a+b)\n",
    "# waf for addition of two numbers\n",
    "\n",
    "a = int(input(\"enter a : \"))\n",
    "b = int(input(\"enter b : \"))\n",
    "print(a,\" + \",b,\"  =  \",a+b)\n",
    "# waf for addition of two numbers\n",
    "\n",
    "a = int(input(\"enter a : \"))\n",
    "b = int(input(\"enter b : \"))\n",
    "print(a,\" + \",b,\"  =  \",a+b)"
   ]
  },
  {
   "cell_type": "code",
   "execution_count": null,
   "metadata": {},
   "outputs": [],
   "source": [
    "def  addition():\n",
    "    a = int(input(\"enter a : \"))\n",
    "    b = int(input(\"enter b : \"))\n",
    "    print(a,\" + \",b,\"  =  \",a+b)\n",
    "addition()  # funnction call\n",
    "addition()  # funnction call\n",
    "addition()  # funnction call"
   ]
  },
  {
   "cell_type": "code",
   "execution_count": 2,
   "metadata": {},
   "outputs": [
    {
     "name": "stdout",
     "output_type": "stream",
     "text": [
      "enter : 1\n",
      "1  Is not a prime number\n",
      "enter : 9\n",
      "9  is not a prime\n"
     ]
    }
   ],
   "source": [
    "# waf for given number is prime or not\n",
    "def isprime():\n",
    "    N = int(input(\"enter : \"))\n",
    "    if(N>=2):\n",
    "        for var in range(2,N):\n",
    "            if(N % var == 0):\n",
    "                print(N,\" is not a prime\")\n",
    "                break\n",
    "        else:\n",
    "            print(N, \"is a prime \")\n",
    "    else:\n",
    "        print(N,\" Is not a prime number\")\n",
    "\n",
    "isprime()\n",
    "isprime()\n"
   ]
  },
  {
   "cell_type": "code",
   "execution_count": null,
   "metadata": {},
   "outputs": [],
   "source": [
    "# waf for factorial of a number\n",
    "\n",
    "# waf for reverse of a number\n",
    "\n",
    "# waf for no of digits in a number"
   ]
  },
  {
   "cell_type": "code",
   "execution_count": null,
   "metadata": {},
   "outputs": [],
   "source": [
    "# arguments --->> to access the data from functions call\n",
    "def fun_name(arg1 ,arg2 ,arg3 ,arg4--------):\n",
    "    pass\n",
    "fun_name(data1 , data2 ,data3, data4--------)"
   ]
  },
  {
   "cell_type": "code",
   "execution_count": 1,
   "metadata": {},
   "outputs": [
    {
     "name": "stdout",
     "output_type": "stream",
     "text": [
      "fact of  5  is  120\n",
      "fact of  6  is  720\n"
     ]
    }
   ],
   "source": [
    "# wap find the factorial of a number\n",
    "\n",
    "def factorial(N):\n",
    "    fact = 1\n",
    "    for var in range(2,N+1):\n",
    "        fact = fact * var\n",
    "    else:\n",
    "        print(\"fact of \",N,\" is \",fact)\n",
    "factorial(5)  # 120\n",
    "factorial(6)  # 720"
   ]
  },
  {
   "cell_type": "code",
   "execution_count": 2,
   "metadata": {},
   "outputs": [
    {
     "name": "stdout",
     "output_type": "stream",
     "text": [
      "fact of  5  is  120\n",
      "fact of  6  is  720\n",
      "enter a : 9\n",
      "fact of  9  is  362880\n"
     ]
    }
   ],
   "source": [
    "# wap find the factorial of a number\n",
    "\n",
    "def factorial(N):\n",
    "    fact = 1\n",
    "    for var in range(2,N+1):\n",
    "        fact = fact * var\n",
    "    else:\n",
    "        print(\"fact of \",N,\" is \",fact)\n",
    "factorial(5)  # 120\n",
    "factorial(6)  # 720\n",
    "a = int(input(\"enter a : \"))\n",
    "factorial(a)"
   ]
  },
  {
   "cell_type": "code",
   "execution_count": 3,
   "metadata": {},
   "outputs": [
    {
     "name": "stdout",
     "output_type": "stream",
     "text": [
      "10\n"
     ]
    },
    {
     "ename": "TypeError",
     "evalue": "fun() missing 1 required positional argument: 'a'",
     "output_type": "error",
     "traceback": [
      "\u001b[1;31m---------------------------------------------------------------------------\u001b[0m",
      "\u001b[1;31mTypeError\u001b[0m                                 Traceback (most recent call last)",
      "\u001b[1;32m<ipython-input-3-4e4bcb9c8f4f>\u001b[0m in \u001b[0;36m<module>\u001b[1;34m\u001b[0m\n\u001b[0;32m      3\u001b[0m \u001b[1;33m\u001b[0m\u001b[0m\n\u001b[0;32m      4\u001b[0m \u001b[0mfun\u001b[0m\u001b[1;33m(\u001b[0m\u001b[1;36m10\u001b[0m\u001b[1;33m)\u001b[0m\u001b[1;33m\u001b[0m\u001b[1;33m\u001b[0m\u001b[0m\n\u001b[1;32m----> 5\u001b[1;33m \u001b[0mfun\u001b[0m\u001b[1;33m(\u001b[0m\u001b[1;33m)\u001b[0m\u001b[1;33m\u001b[0m\u001b[1;33m\u001b[0m\u001b[0m\n\u001b[0m",
      "\u001b[1;31mTypeError\u001b[0m: fun() missing 1 required positional argument: 'a'"
     ]
    }
   ],
   "source": [
    "def fun(a):\n",
    "    print(a)\n",
    "    \n",
    "fun(10)\n",
    "fun()"
   ]
  },
  {
   "cell_type": "code",
   "execution_count": 5,
   "metadata": {},
   "outputs": [
    {
     "name": "stdout",
     "output_type": "stream",
     "text": [
      "10\n",
      "100\n",
      "None\n"
     ]
    }
   ],
   "source": [
    "# default arguments\n",
    "def fun(a=None):\n",
    "    print(a)\n",
    "    \n",
    "fun(10)\n",
    "a = 100\n",
    "fun(a)\n",
    "fun()"
   ]
  },
  {
   "cell_type": "code",
   "execution_count": 6,
   "metadata": {},
   "outputs": [
    {
     "name": "stdout",
     "output_type": "stream",
     "text": [
      "100\n",
      "100\n"
     ]
    }
   ],
   "source": [
    "# global variables  --> scope & lifetime --> whole program\n",
    "var = 100 # default global variable\n",
    "def fun():\n",
    "    print(var)\n",
    "fun()\n",
    "print(var)"
   ]
  },
  {
   "cell_type": "code",
   "execution_count": 7,
   "metadata": {},
   "outputs": [
    {
     "name": "stdout",
     "output_type": "stream",
     "text": [
      "100\n"
     ]
    },
    {
     "ename": "NameError",
     "evalue": "name 'var1' is not defined",
     "output_type": "error",
     "traceback": [
      "\u001b[1;31m---------------------------------------------------------------------------\u001b[0m",
      "\u001b[1;31mNameError\u001b[0m                                 Traceback (most recent call last)",
      "\u001b[1;32m<ipython-input-7-bec32fc480d7>\u001b[0m in \u001b[0;36m<module>\u001b[1;34m\u001b[0m\n\u001b[0;32m      4\u001b[0m     \u001b[0mprint\u001b[0m\u001b[1;33m(\u001b[0m\u001b[0mvar1\u001b[0m\u001b[1;33m)\u001b[0m\u001b[1;33m\u001b[0m\u001b[1;33m\u001b[0m\u001b[0m\n\u001b[0;32m      5\u001b[0m \u001b[0mfun\u001b[0m\u001b[1;33m(\u001b[0m\u001b[1;33m)\u001b[0m\u001b[1;33m\u001b[0m\u001b[1;33m\u001b[0m\u001b[0m\n\u001b[1;32m----> 6\u001b[1;33m \u001b[0mprint\u001b[0m\u001b[1;33m(\u001b[0m\u001b[0mvar1\u001b[0m\u001b[1;33m)\u001b[0m\u001b[1;33m\u001b[0m\u001b[1;33m\u001b[0m\u001b[0m\n\u001b[0m",
      "\u001b[1;31mNameError\u001b[0m: name 'var1' is not defined"
     ]
    }
   ],
   "source": [
    "# local   variables  --> scope & lifetime --> with in the block\n",
    "def fun():\n",
    "    var1 = 100 # local variable\n",
    "    print(var1)\n",
    "fun()\n",
    "print(var1)"
   ]
  },
  {
   "cell_type": "code",
   "execution_count": 8,
   "metadata": {},
   "outputs": [
    {
     "name": "stdout",
     "output_type": "stream",
     "text": [
      "200\n",
      "100\n"
     ]
    }
   ],
   "source": [
    "# global & Local variables are same name then what happens\n",
    "var2 = 100 # globale variable\n",
    "def fun():\n",
    "    var2 = 200 # local variable\n",
    "    print(var2)\n",
    "fun()\n",
    "print(var2)"
   ]
  },
  {
   "cell_type": "code",
   "execution_count": 9,
   "metadata": {},
   "outputs": [
    {
     "name": "stdout",
     "output_type": "stream",
     "text": [
      "200\n",
      "200\n"
     ]
    }
   ],
   "source": [
    "# global & Local variables are same name then what happens\n",
    "var2 = 100 # globale variable\n",
    "def fun():\n",
    "    global var2\n",
    "    var2 = 200 # modifing the global variable\n",
    "    print(var2)\n",
    "fun()\n",
    "print(var2)"
   ]
  },
  {
   "cell_type": "code",
   "execution_count": 10,
   "metadata": {},
   "outputs": [
    {
     "name": "stdout",
     "output_type": "stream",
     "text": [
      "100\n"
     ]
    }
   ],
   "source": [
    "# return\n",
    "def fun():\n",
    "    return 100\n",
    "print(fun())\n"
   ]
  },
  {
   "cell_type": "code",
   "execution_count": null,
   "metadata": {},
   "outputs": [],
   "source": [
    "# waf for factorial of a number\n",
    "\n",
    "# waf for reverse of a number\n",
    "\n",
    "# waf for no of digits in a number"
   ]
  }
 ],
 "metadata": {
  "kernelspec": {
   "display_name": "Python 3",
   "language": "python",
   "name": "python3"
  },
  "language_info": {
   "codemirror_mode": {
    "name": "ipython",
    "version": 3
   },
   "file_extension": ".py",
   "mimetype": "text/x-python",
   "name": "python",
   "nbconvert_exporter": "python",
   "pygments_lexer": "ipython3",
   "version": "3.8.3"
  }
 },
 "nbformat": 4,
 "nbformat_minor": 4
}
