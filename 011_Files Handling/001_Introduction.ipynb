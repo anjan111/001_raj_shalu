{
 "cells": [
  {
   "cell_type": "markdown",
   "metadata": {},
   "source": [
    "#### File\n",
    "\n",
    "===>>> Part of the harddisk\n",
    "\n",
    "===>>> Which can hold related information\n",
    "\n",
    "\n",
    "##### Typess\n",
    "\n",
    "1. Text Files\n",
    "\n",
    "====>> Which can Hold alphanumerical data\n",
    "\n",
    "====>> .doc / .ppt / .txt\n",
    "\n",
    "===>>> It can easy to write & read\n",
    "\n",
    "2. Binary Files\n",
    "\n",
    "===>> Which can hold the binARY DATA  (  0 ,1 )\n",
    "\n",
    "===>> .JPG ,  IMAGE FILES , VIDEO FILES , EXECUTABLE FILES \n",
    "\n",
    "#### File operations\n",
    "\n",
    "===>>file creation\n",
    "\n",
    "===>> file removing \n",
    "\n",
    "===>> reading the data from file \n",
    "\n",
    "===>> writing the data into the file\n",
    "\n",
    "###### File handling means we can do the file operations with python\n",
    "\n",
    "open(\"target file name including path\",\"mode of operation\")\n",
    "\n",
    "#### mode\n",
    "\n",
    "1. write mode\n",
    "\n",
    "---->> if the target file is not existed then it can create a file\n",
    "\n",
    "--->> if the target file is existed with some data then the whole data can\n",
    "\n",
    "delete and open freshly.\n",
    "\n",
    "---->>   'w' ---->> write operation only can do\n",
    "\n",
    "--->>    'w+' --->> write and read both can do\n",
    "\n",
    "2. read mode\n",
    "\n",
    "---->> if the target file is not existed then it can error\n",
    "\n",
    "--->> if the target file is existed with some data then the whole data can\n",
    "\n",
    "safe  and open and we can modify the existing data.\n",
    "\n",
    "---->  'r'  ---> read operations only can do\n",
    "\n",
    "--->  'r+'  ---> read+ write  \n",
    "\n",
    "\n",
    "3. append mode\n",
    "\n",
    "---->> if the target file is not existed then it can create a file \n",
    "\n",
    "--->> if the target file is existed with some data then the whole data can\n",
    "\n",
    "safe  and open we can't modify the existing data.\n",
    "\n",
    "---> 'a' ---> write \n",
    "\n",
    "---> 'a+' ---> 'a+'"
   ]
  },
  {
   "cell_type": "code",
   "execution_count": 1,
   "metadata": {},
   "outputs": [
    {
     "name": "stdout",
     "output_type": "stream",
     "text": [
      "enter some data : i am write mode\n"
     ]
    }
   ],
   "source": [
    "#close()\n",
    "#read()\n",
    "#write()\n",
    "\n",
    "fo = open('target.txt','w')# created a target file\n",
    "data = input(\"enter some data : \")\n",
    "fo.write(data)\n",
    "fo.close()"
   ]
  },
  {
   "cell_type": "code",
   "execution_count": 2,
   "metadata": {},
   "outputs": [
    {
     "name": "stdout",
     "output_type": "stream",
     "text": [
      "enter some data : \"new data\"\n"
     ]
    }
   ],
   "source": [
    "fo = open('target.ppt','w')# created a target file\n",
    "data = input(\"enter some data : \")\n",
    "fo.write(data)\n",
    "fo.close()"
   ]
  },
  {
   "cell_type": "code",
   "execution_count": 3,
   "metadata": {},
   "outputs": [
    {
     "name": "stdout",
     "output_type": "stream",
     "text": [
      "enter some data : This is new data \n"
     ]
    }
   ],
   "source": [
    "fo = open('target.txt','w')# existed \n",
    "data = input(\"enter some data : \")\n",
    "fo.write(data)\n",
    "fo.close()"
   ]
  },
  {
   "cell_type": "code",
   "execution_count": 5,
   "metadata": {},
   "outputs": [
    {
     "name": "stdout",
     "output_type": "stream",
     "text": [
      "0\n",
      "enter some data : 1234567890\n",
      "10\n",
      "0\n"
     ]
    },
    {
     "ename": "UnsupportedOperation",
     "evalue": "not readable",
     "output_type": "error",
     "traceback": [
      "\u001b[1;31m---------------------------------------------------------------------------\u001b[0m",
      "\u001b[1;31mUnsupportedOperation\u001b[0m                      Traceback (most recent call last)",
      "\u001b[1;32m<ipython-input-5-413f76921c92>\u001b[0m in \u001b[0;36m<module>\u001b[1;34m\u001b[0m\n\u001b[0;32m      6\u001b[0m \u001b[0mfo\u001b[0m\u001b[1;33m.\u001b[0m\u001b[0mseek\u001b[0m\u001b[1;33m(\u001b[0m\u001b[1;36m0\u001b[0m\u001b[1;33m,\u001b[0m\u001b[1;36m0\u001b[0m\u001b[1;33m)\u001b[0m \u001b[1;31m# 0\u001b[0m\u001b[1;33m\u001b[0m\u001b[1;33m\u001b[0m\u001b[0m\n\u001b[0;32m      7\u001b[0m \u001b[0mprint\u001b[0m\u001b[1;33m(\u001b[0m\u001b[0mfo\u001b[0m\u001b[1;33m.\u001b[0m\u001b[0mtell\u001b[0m\u001b[1;33m(\u001b[0m\u001b[1;33m)\u001b[0m\u001b[1;33m)\u001b[0m\u001b[1;31m# 0\u001b[0m\u001b[1;33m\u001b[0m\u001b[1;33m\u001b[0m\u001b[0m\n\u001b[1;32m----> 8\u001b[1;33m \u001b[0mprint\u001b[0m\u001b[1;33m(\u001b[0m\u001b[0mfo\u001b[0m\u001b[1;33m.\u001b[0m\u001b[0mread\u001b[0m\u001b[1;33m(\u001b[0m\u001b[1;33m)\u001b[0m\u001b[1;33m)\u001b[0m\u001b[1;33m\u001b[0m\u001b[1;33m\u001b[0m\u001b[0m\n\u001b[0m\u001b[0;32m      9\u001b[0m \u001b[0mfo\u001b[0m\u001b[1;33m.\u001b[0m\u001b[0mclose\u001b[0m\u001b[1;33m(\u001b[0m\u001b[1;33m)\u001b[0m\u001b[1;33m\u001b[0m\u001b[1;33m\u001b[0m\u001b[0m\n",
      "\u001b[1;31mUnsupportedOperation\u001b[0m: not readable"
     ]
    }
   ],
   "source": [
    "fo = open('target.txt','w')# existed\n",
    "print(fo.tell()) # 0\n",
    "data = input(\"enter some data : \") # 10 character\n",
    "fo.write(data) # 10\n",
    "print(fo.tell())# 10\n",
    "fo.seek(0,0) # 0\n",
    "print(fo.tell())# 0\n",
    "print(fo.read())\n",
    "fo.close()"
   ]
  },
  {
   "cell_type": "code",
   "execution_count": null,
   "metadata": {},
   "outputs": [],
   "source": []
  }
 ],
 "metadata": {
  "kernelspec": {
   "display_name": "Python 3",
   "language": "python",
   "name": "python3"
  },
  "language_info": {
   "codemirror_mode": {
    "name": "ipython",
    "version": 3
   },
   "file_extension": ".py",
   "mimetype": "text/x-python",
   "name": "python",
   "nbconvert_exporter": "python",
   "pygments_lexer": "ipython3",
   "version": "3.8.3"
  }
 },
 "nbformat": 4,
 "nbformat_minor": 4
}
