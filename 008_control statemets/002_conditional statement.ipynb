{
 "cells": [
  {
   "cell_type": "markdown",
   "metadata": {},
   "source": [
    "# simple if  ---> if keyword\n",
    "\n",
    "===>>> syntax\n",
    "\n",
    "start\n",
    "\n",
    "-----\n",
    "\n",
    "-----\n",
    "\n",
    "if(cond) :\n",
    "    \n",
    "    -------\n",
    "    \n",
    "    -------\n",
    "    \n",
    "stop\n",
    "\n",
    "----\n",
    "\n"
   ]
  },
  {
   "cell_type": "code",
   "execution_count": 1,
   "metadata": {},
   "outputs": [
    {
     "name": "stdout",
     "output_type": "stream",
     "text": [
      "enter side of sqaure in meters : 12\n",
      "Task Over\n"
     ]
    }
   ],
   "source": [
    "# wap for finding the area of sqaure when side is diviable by 5\n",
    "side = input(\"enter side of sqaure in meters : \")\n",
    "side = int(side)\n",
    "if( side % 5 == 0):\n",
    "    area = side ** 2  # side  * side\n",
    "    print(\"area of sqaure  : \",area,\" sq.meters\")\n",
    "print(\"Task Over\")    "
   ]
  },
  {
   "cell_type": "code",
   "execution_count": 2,
   "metadata": {},
   "outputs": [
    {
     "name": "stdout",
     "output_type": "stream",
     "text": [
      "enter side of sqaure in meters : 20\n",
      "area of sqaure  :  400  sq.meters\n",
      "Task Over\n"
     ]
    }
   ],
   "source": [
    "# wap for finding the area of sqaure when side is diviable by 5\n",
    "side = input(\"enter side of sqaure in meters : \")\n",
    "side = int(side)\n",
    "if( side % 5 == 0):\n",
    "    area = side ** 2  # side  * side\n",
    "    print(\"area of sqaure  : \",area,\" sq.meters\")\n",
    "print(\"Task Over\")    "
   ]
  },
  {
   "cell_type": "code",
   "execution_count": null,
   "metadata": {},
   "outputs": [],
   "source": [
    "# wap print even if and only if given number is even"
   ]
  }
 ],
 "metadata": {
  "kernelspec": {
   "display_name": "Python 3",
   "language": "python",
   "name": "python3"
  },
  "language_info": {
   "codemirror_mode": {
    "name": "ipython",
    "version": 3
   },
   "file_extension": ".py",
   "mimetype": "text/x-python",
   "name": "python",
   "nbconvert_exporter": "python",
   "pygments_lexer": "ipython3",
   "version": "3.8.3"
  }
 },
 "nbformat": 4,
 "nbformat_minor": 4
}
