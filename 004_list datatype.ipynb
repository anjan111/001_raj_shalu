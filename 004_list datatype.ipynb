{
 "cells": [
  {
   "cell_type": "code",
   "execution_count": 1,
   "metadata": {},
   "outputs": [
    {
     "name": "stdout",
     "output_type": "stream",
     "text": [
      "[]\n",
      "<class 'list'>\n",
      "2217798844672\n"
     ]
    }
   ],
   "source": [
    "# list  --->>  []\n",
    "var  = []  # empty list\n",
    "print(var)\n",
    "print(type(var))\n",
    "print(id(var))"
   ]
  },
  {
   "cell_type": "code",
   "execution_count": 2,
   "metadata": {},
   "outputs": [
    {
     "name": "stdout",
     "output_type": "stream",
     "text": [
      "[12, 3.23, (4+4j), True, None, 'str', [12, 3], (1, 2), {1, 2}, {12: 34}]\n"
     ]
    }
   ],
   "source": [
    "# with in the [] --> we may hold all datatype elements\n",
    "# list is a hetrogenious datatype\n",
    "var = [12 , 3.23 ,4+4j, True ,None,\"str\",[12,3],(1,2),{1,2},{12:34}]\n",
    "print(var)"
   ]
  },
  {
   "cell_type": "code",
   "execution_count": 3,
   "metadata": {},
   "outputs": [
    {
     "name": "stdout",
     "output_type": "stream",
     "text": [
      "positive indexing   0 to len -1\n",
      "12\n",
      "89\n",
      "23\n",
      "negative indexing   -1 to - len\n",
      "23\n",
      "89\n",
      "12\n"
     ]
    }
   ],
   "source": [
    "# access the list elements\n",
    "'''\n",
    "---> indexing  --> [position] --> only one element\n",
    "---> slicing  --> [start : stop] --> multiple continuos from start to stop position\n",
    "---> dicing ----> [start : stop : step ] -> multiple periodical indexing postional elments\n",
    "\n",
    "'''\n",
    "print(\"positive indexing   0 to len -1\")\n",
    "var = [12,89,23]\n",
    "print(var[0])# 12\n",
    "print(var[1])# 89\n",
    "print(var[2])# 23\n",
    "print(\"negative indexing   -1 to - len\")\n",
    "print(var[-1]) # 23\n",
    "print(var[-2]) # 89\n",
    "print(var[-3]) # 12"
   ]
  },
  {
   "cell_type": "code",
   "execution_count": 7,
   "metadata": {},
   "outputs": [
    {
     "name": "stdout",
     "output_type": "stream",
     "text": [
      "[23, 78, 40, 89]\n",
      "[45, 90, 23, 78, 40, 89, 67]\n",
      "[12, 45, 90, 23, 78, 40, 89, 67]\n",
      "[78, 40, 89, 67, 34, 11]\n"
     ]
    }
   ],
   "source": [
    "#list slicing \n",
    "var = [12,45,90,23,78,40,89,67,34,11]\n",
    "print(var[3:7])\n",
    "print(var[1:8])\n",
    "print(var[ : 8]) # start --> 0\n",
    "print(var[4:])   # stop ---> len of list"
   ]
  },
  {
   "cell_type": "code",
   "execution_count": 10,
   "metadata": {},
   "outputs": [
    {
     "name": "stdout",
     "output_type": "stream",
     "text": [
      "[45, 78, 67]\n",
      "[45, 40, 11]\n",
      "[12, 78, 34]\n",
      "[45, 40, 11]\n",
      "[45, 90, 23, 78, 40]\n"
     ]
    }
   ],
   "source": [
    "# list dicing \n",
    "var = [12,45,90,23,78,40,89,67,34,11]\n",
    "print(var[ 1 :  8 : 3  ])\n",
    "print(var[1  :  10 : 4])\n",
    "print(var[   :  9  : 4 ]) # [12 , 78 ,34]\n",
    "print(var[1  :     : 4])  # [45 , 40 ,11]\n",
    "print(var[1  :  6  : ])   #"
   ]
  },
  {
   "cell_type": "code",
   "execution_count": 11,
   "metadata": {},
   "outputs": [
    {
     "name": "stdout",
     "output_type": "stream",
     "text": [
      "[12, 90, 23]\n",
      "[12, 100, 23]\n"
     ]
    }
   ],
   "source": [
    "#list  --> mutable\n",
    "var = [12,90,23]\n",
    "print(var)\n",
    "var[1] = 100\n",
    "print(var)"
   ]
  },
  {
   "cell_type": "code",
   "execution_count": 12,
   "metadata": {},
   "outputs": [
    {
     "name": "stdout",
     "output_type": "stream",
     "text": [
      "3\n",
      "89\n",
      "12\n",
      "135\n"
     ]
    }
   ],
   "source": [
    "var = [12,89,34]\n",
    "print(len(var))\n",
    "print(max(var))\n",
    "print(min(var))\n",
    "print(sum(var))\n"
   ]
  },
  {
   "cell_type": "code",
   "execution_count": null,
   "metadata": {},
   "outputs": [],
   "source": []
  }
 ],
 "metadata": {
  "kernelspec": {
   "display_name": "Python 3",
   "language": "python",
   "name": "python3"
  },
  "language_info": {
   "codemirror_mode": {
    "name": "ipython",
    "version": 3
   },
   "file_extension": ".py",
   "mimetype": "text/x-python",
   "name": "python",
   "nbconvert_exporter": "python",
   "pygments_lexer": "ipython3",
   "version": "3.8.3"
  }
 },
 "nbformat": 4,
 "nbformat_minor": 4
}
